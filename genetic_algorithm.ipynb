{
 "cells": [
  {
   "cell_type": "markdown",
   "metadata": {},
   "source": [
    "### simple baseline for genetic algorithm"
   ]
  },
  {
   "cell_type": "markdown",
   "metadata": {},
   "source": [
    "Задача: имеется одна бактерия, на каждой итерации она может: умереть p1=0.2, выжить p2=0.4, размножится p3=0.4. Какова вероятность того что популяция начатая с одной бактерии выживет?\n",
    "\n",
    "Бейслайн: та популяция, которая дожила до 1000 итераций - выжила, проведем 1000 испытаний и посчитаем долю популяций доживших до 1000 итераций."
   ]
  },
  {
   "cell_type": "code",
   "execution_count": null,
   "metadata": {
    "collapsed": true
   },
   "outputs": [],
   "source": [
    "import numpy as np\n",
    "import pandas as pd\n",
    "import uuid"
   ]
  },
  {
   "cell_type": "code",
   "execution_count": 136,
   "metadata": {},
   "outputs": [],
   "source": [
    "def generate_new():\n",
    "    return uuid.uuid4().hex\n",
    "def get_choices(population):\n",
    "    new=[]\n",
    "    for item in population:\n",
    "        choice = np.random.choice(['p1','p2','p3'], size=1, p=[0.2,0.4,0.4])\n",
    "        if choice == 'p1':\n",
    "            population.remove(item)\n",
    "            if len(population)==0:\n",
    "                return False, None\n",
    "        elif choice == 'p2':\n",
    "            pass\n",
    "        elif choice == 'p3':\n",
    "            new.append(generate_new())\n",
    "        return True, population + new\n",
    "\n",
    "def steps(n=1000):\n",
    "    time = 0\n",
    "    population = [generate_new()]\n",
    "    flag=True\n",
    "    while time<n and flag:\n",
    "        time+=1\n",
    "        flag,population = get_choices(population)\n",
    "    return time,population"
   ]
  },
  {
   "cell_type": "code",
   "execution_count": 145,
   "metadata": {},
   "outputs": [],
   "source": [
    "count_times = []\n",
    "i=0\n",
    "while i<1000:\n",
    "    count_times.append(steps()[0])\n",
    "    i+=1"
   ]
  },
  {
   "cell_type": "code",
   "execution_count": 149,
   "metadata": {},
   "outputs": [
    {
     "data": {
      "text/plain": [
       "0.51900000000000002"
      ]
     },
     "execution_count": 149,
     "metadata": {},
     "output_type": "execute_result"
    }
   ],
   "source": [
    "pd.Series(count_times).value_counts()[1000]/len(count_times)"
   ]
  }
 ],
 "metadata": {
  "anaconda-cloud": {},
  "kernelspec": {
   "display_name": "Python [conda root]",
   "language": "python",
   "name": "conda-root-py"
  },
  "language_info": {
   "codemirror_mode": {
    "name": "ipython",
    "version": 3
   },
   "file_extension": ".py",
   "mimetype": "text/x-python",
   "name": "python",
   "nbconvert_exporter": "python",
   "pygments_lexer": "ipython3",
   "version": "3.5.4"
  }
 },
 "nbformat": 4,
 "nbformat_minor": 1
}
