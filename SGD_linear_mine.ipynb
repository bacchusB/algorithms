{
 "cells": [
  {
   "cell_type": "code",
   "execution_count": 1,
   "metadata": {
    "collapsed": true
   },
   "outputs": [],
   "source": [
    "import numpy as np\n",
    "from scipy.spatial import distance\n",
    "import pandas as pd\n",
    "\n",
    "import matplotlib.pyplot as plt\n",
    "%matplotlib inline"
   ]
  },
  {
   "cell_type": "code",
   "execution_count": 5,
   "metadata": {
    "collapsed": true
   },
   "outputs": [],
   "source": [
    "adver_data = pd.read_csv('data/advertising.csv')\n",
    "X = adver_data[['TV','Radio','Newspaper']].values\n",
    "y = adver_data['Sales'].values\n",
    "means, stds = np.mean(X,axis=0),np.std(X,axis=0)\n",
    "X_scaled=(X-means)/stds\n",
    "X_scaled_df=pd.DataFrame(X_scaled,columns=['TV','Radio','Newspaper'])\n",
    "X_scaled_df['w0']=1"
   ]
  },
  {
   "cell_type": "code",
   "execution_count": 37,
   "metadata": {
    "collapsed": true
   },
   "outputs": [],
   "source": [
    "class SGDregression2:\n",
    "    def __init__(self,random_state=42,eta=0.01,n_iter=1e4,alpha=1e-8):\n",
    "        \"\"\"\n",
    "        SGDRegressor with eulcidian distance metric and func loss is MSE\n",
    "        \"\"\"\n",
    "        self.__random_state = random_state\n",
    "        self.__eta = eta\n",
    "        self.__n_iter = n_iter\n",
    "        self.__alpha = alpha\n",
    "    \n",
    "    def mserror(self,y, y_pred):\n",
    "        return np.sum((y-y_pred)**2)/len(y)\n",
    "    \n",
    "    def step(self,X, y, w, index):\n",
    "        x = X[index]\n",
    "        y = y[index]\n",
    "        err = np.dot(x,w) - y\n",
    "        grad = 2/len(X)*np.dot(x.T,err)\n",
    "        return w - self.__eta* grad\n",
    "    \n",
    "    def fit(self,X,y):\n",
    "        \"\"\"\n",
    "        X - must be numpy array\n",
    "        y - must be numpy array or Series\n",
    "        \"\"\"\n",
    "        #initial shit\n",
    "        w = np.zeros(X.shape[1])\n",
    "        weight_dist = np.inf\n",
    "        #list of errors\n",
    "        self.__errors = []\n",
    "        #iteration counter\n",
    "        iter_num = 0\n",
    "        #sets random seed for algo\n",
    "        np.random.seed(self.__random_state)\n",
    "\n",
    "        while weight_dist > self.__alpha and iter_num < self.__n_iter:\n",
    "            #random index from objects\n",
    "            random_ind = np.random.randint(len(X))\n",
    "            #counts next weights\n",
    "            w_next=self.step(X, y, w, random_ind)\n",
    "            #counts distance\n",
    "            weight_dist=distance.euclidean(w_next,w)\n",
    "            #counts error\n",
    "            error = self.mserror(y,np.dot(X,w_next))\n",
    "            #appends eror\n",
    "            self.__errors.append(error)\n",
    "            #next step\n",
    "            w=w_next\n",
    "            iter_num+=1\n",
    "        self.__model_weights = w\n",
    "        self.__n_iters = iter_num\n",
    "        return self.__model_weights\n",
    "    \n",
    "    @property\n",
    "    def errors(self):\n",
    "        return self.__errors\n",
    "    @property\n",
    "    def n_iters(self):\n",
    "        return self.__n_iters\n",
    "    @property\n",
    "    def w(self):\n",
    "        return self.__model_weights\n",
    "\n",
    "\n",
    "test = SGDregression2()"
   ]
  }
 ],
 "metadata": {
  "anaconda-cloud": {},
  "kernelspec": {
   "display_name": "Python [conda root]",
   "language": "python",
   "name": "conda-root-py"
  },
  "language_info": {
   "codemirror_mode": {
    "name": "ipython",
    "version": 3
   },
   "file_extension": ".py",
   "mimetype": "text/x-python",
   "name": "python",
   "nbconvert_exporter": "python",
   "pygments_lexer": "ipython3",
   "version": "3.5.4"
  }
 },
 "nbformat": 4,
 "nbformat_minor": 1
}
